{
 "cells": [
  {
   "cell_type": "markdown",
   "metadata": {},
   "source": [
    "# Exercice Python"
   ]
  },
  {
   "cell_type": "markdown",
   "metadata": {},
   "source": [
    "## Le compte bancaire "
   ]
  },
  {
   "cell_type": "code",
   "execution_count": 54,
   "metadata": {},
   "outputs": [],
   "source": [
    "import numpy as np"
   ]
  },
  {
   "cell_type": "code",
   "execution_count": 2,
   "metadata": {},
   "outputs": [],
   "source": [
    "class CompteBancaire:\n",
    "    nom = \"\"\n",
    "    solde = 0\n",
    "    \n",
    "    \n",
    "    def __init__(self,n='Dupont',s=1000):\n",
    "        self.nom = n\n",
    "        self.solde = s\n",
    "        \n",
    "    def depot(self,x):\n",
    "        self.solde += x\n",
    "        #return (\"{}, votre slode actuel est de {} euros\".format(self.nom,solde))\n",
    "        \n",
    "    def retrait(self,n):\n",
    "        self.solde = self.solde-n\n",
    "        #return (\"{}, votre slode actuel est de {} euros\".format(self.nom,solde))\n",
    "        \n",
    "    def affiche(self):\n",
    "        return (\"Le solde du compte bancaire de {} est de {} euros.\".format(self.nom, self.solde))\n",
    "        "
   ]
  },
  {
   "cell_type": "code",
   "execution_count": 3,
   "metadata": {},
   "outputs": [
    {
     "data": {
      "text/plain": [
       "'Le solde du compte bancaire de Duchmol est de 950 euros.'"
      ]
     },
     "execution_count": 3,
     "metadata": {},
     "output_type": "execute_result"
    }
   ],
   "source": [
    "compte1 = CompteBancaire('Duchmol', 800)\n",
    "compte1.depot(350)\n",
    "compte1.retrait(200)\n",
    "compte1.affiche()"
   ]
  },
  {
   "cell_type": "code",
   "execution_count": 4,
   "metadata": {},
   "outputs": [
    {
     "data": {
      "text/plain": [
       "'Le solde du compte bancaire de Dupont est de 1025 euros.'"
      ]
     },
     "execution_count": 4,
     "metadata": {},
     "output_type": "execute_result"
    }
   ],
   "source": [
    "compte2 = CompteBancaire()\n",
    "compte2.depot(25)\n",
    "compte2.affiche()"
   ]
  },
  {
   "cell_type": "markdown",
   "metadata": {},
   "source": [
    "## La surcharge d'opérateur  "
   ]
  },
  {
   "cell_type": "code",
   "execution_count": 21,
   "metadata": {},
   "outputs": [],
   "source": [
    "class Point:\n",
    "    x=0\n",
    "    y=0\n",
    "    \n",
    "    def __init__(self,x,y,z=None):\n",
    "        self.x= x\n",
    "        self.y= y\n",
    "        self.z= z\n",
    "    \n",
    "    def ToString(self):\n",
    "        if self.z is None:\n",
    "             return (\"P(%f,%f)\"%(self.x,self.y))\n",
    "        else:\n",
    "             return (\"P(%f,%f,%f)\"%(self.x,self.y,self.z))\n",
    "       \n",
    "    "
   ]
  },
  {
   "cell_type": "code",
   "execution_count": 22,
   "metadata": {},
   "outputs": [],
   "source": [
    "p1 = Point(2,3)"
   ]
  },
  {
   "cell_type": "code",
   "execution_count": 23,
   "metadata": {},
   "outputs": [
    {
     "data": {
      "text/plain": [
       "'P(2.000000,3.000000)'"
      ]
     },
     "execution_count": 23,
     "metadata": {},
     "output_type": "execute_result"
    }
   ],
   "source": [
    "p1.ToString()"
   ]
  },
  {
   "cell_type": "code",
   "execution_count": 24,
   "metadata": {},
   "outputs": [],
   "source": [
    "p2 = Point(2,-5,3)"
   ]
  },
  {
   "cell_type": "code",
   "execution_count": 25,
   "metadata": {},
   "outputs": [
    {
     "data": {
      "text/plain": [
       "'P(2.000000,-5.000000,3.000000)'"
      ]
     },
     "execution_count": 25,
     "metadata": {},
     "output_type": "execute_result"
    }
   ],
   "source": [
    "p2.ToString()"
   ]
  },
  {
   "cell_type": "markdown",
   "metadata": {},
   "source": [
    "## L'héritage simple"
   ]
  },
  {
   "cell_type": "code",
   "execution_count": 112,
   "metadata": {},
   "outputs": [],
   "source": [
    "from datetime import datetime\n",
    "\n",
    "class DateNaissance:\n",
    "    dateN =0\n",
    "    \n",
    "    def __init__(self,j,m,a):\n",
    "        dt = \"%s/%s/%s\"%(j,m,a)\n",
    "        #print(dt)\n",
    "        self.dateN = datetime.strptime(dt, '%d/%m/%Y')\n",
    "        self.dateN = self.dateN.strftime('%d/%m/%Y')\n",
    "    \n",
    "    def ToString(self):\n",
    "        return(\"{}\".format(self.dateN))\n",
    "    "
   ]
  },
  {
   "cell_type": "code",
   "execution_count": 113,
   "metadata": {},
   "outputs": [
    {
     "data": {
      "text/plain": [
       "'01/07/1995'"
      ]
     },
     "execution_count": 113,
     "metadata": {},
     "output_type": "execute_result"
    }
   ],
   "source": [
    "c = DateNaissance(1,7,1995)\n",
    "c.ToString()"
   ]
  },
  {
   "cell_type": "code",
   "execution_count": 120,
   "metadata": {},
   "outputs": [],
   "source": [
    "class Personne(DateNaissance):\n",
    "    nom =\"\"\n",
    "    prenom=\"\"\n",
    "    dn=0\n",
    "    \n",
    "    def __init__(self,nom,prenom,dn):\n",
    "        self.nom = nom\n",
    "        self.prenom = prenom\n",
    "        self.dn = dn\n",
    "        \n",
    "    def afficher(self):\n",
    "        print(\"Nom : {}\\nPrénom: {}\\nDate de naissance:{}\".format(self.nom,self.prenom,self.dn.ToString()))"
   ]
  },
  {
   "cell_type": "code",
   "execution_count": 121,
   "metadata": {},
   "outputs": [
    {
     "name": "stdout",
     "output_type": "stream",
     "text": [
      "Nom : Ilyass\n",
      "Prénom: Math\n",
      "Date de naissance:01/07/1982\n"
     ]
    }
   ],
   "source": [
    "p = Personne(\"Ilyass\",\"Math\",DateNaissance(1,7,1982))\n",
    "p.afficher()"
   ]
  },
  {
   "cell_type": "code",
   "execution_count": 122,
   "metadata": {},
   "outputs": [],
   "source": [
    "class Employe(Personne):\n",
    "    \n",
    "    salaire =0\n",
    "    \n",
    "    def __init__(self,nom,prenom,dn,sal):\n",
    "        super().__init__(nom,prenom,dn)\n",
    "        \n",
    "        self.sal = round(sal,2)\n",
    "        \n",
    "    def afficher(self):\n",
    "        print(\"Nom : {}\\nPrénom: {}\\nDate de naissance:{}\\nSalaire: {}\".format(self.nom,self.prenom,self.dn.ToString(),self.sal))"
   ]
  },
  {
   "cell_type": "code",
   "execution_count": 123,
   "metadata": {},
   "outputs": [
    {
     "name": "stdout",
     "output_type": "stream",
     "text": [
      "Nom : Ilyass\n",
      "Prénom: Math\n",
      "Date de naissance:01/07/1985\n",
      "Salaire: 7865.55\n"
     ]
    }
   ],
   "source": [
    "E= Employe(\"Ilyass\",\"Math\",DateNaissance(1,7,1985),7865.548)\n",
    "E.afficher()"
   ]
  },
  {
   "cell_type": "code",
   "execution_count": 124,
   "metadata": {},
   "outputs": [],
   "source": [
    "class Chef (Employe):\n",
    "    \n",
    "    service = \"\"\n",
    "    \n",
    "    def __init__(self,nom,prenom,dn,sal,serv):\n",
    "        super().__init__(nom,prenom,dn,sal)\n",
    "        \n",
    "        self.service = serv\n",
    "    \n",
    "    \n",
    "    def afficher(self):\n",
    "        print(\"Nom : {}\\nPrénom: {}\\nDate de naissance:{}\\nSalaire: {}\\nService: {}\".format(self.nom,self.prenom,self.dn.ToString(),self.sal,self.service))"
   ]
  },
  {
   "cell_type": "code",
   "execution_count": 125,
   "metadata": {},
   "outputs": [
    {
     "name": "stdout",
     "output_type": "stream",
     "text": [
      "Nom : Ilyass\n",
      "Prénom: Math\n",
      "Date de naissance:01/07/1988\n",
      "Salaire: 7865.55\n",
      "Service: Ressource humaine\n"
     ]
    }
   ],
   "source": [
    "ch= Chef(\"Ilyass\",\"Math\",DateNaissance(1,7,1988),7865.548,\"Ressource humaine\")\n",
    "ch.afficher()"
   ]
  },
  {
   "cell_type": "markdown",
   "metadata": {},
   "source": [
    "## Exercice sur le polymorphisme"
   ]
  },
  {
   "cell_type": "code",
   "execution_count": 178,
   "metadata": {},
   "outputs": [],
   "source": [
    "class Lettre:\n",
    "    \n",
    "    ad_dest =\"\"\n",
    "    ad_exp= \"\"\n",
    "    poids = 0\n",
    "    mode_exp = \"\"\n",
    "    formatL = \"\"\n",
    "    montant= 0\n",
    "    \n",
    "    def __init__(self,adD,adE,poids, mdEx,fl):\n",
    "        self.ad_dest = adD\n",
    "        self.ad_exp = adE\n",
    "        self.poids = float(poids)\n",
    "        self.mode_exp = mdEx\n",
    "        self.formatL = fl\n",
    "        \n",
    "    def calculeTimbre(self):\n",
    "        if self.mode_exp == \"normal\":\n",
    "            if self.formatL == \"A4\":\n",
    "                self.montant = (2.50*self.poids)/1000\n",
    "            else:\n",
    "                self.montant = (3.50*self.poids)/1000\n",
    "                \n",
    "        else:\n",
    "            if self.formatL == \"A4\":\n",
    "                self.montant = (2.50*self.poids/1000)*2\n",
    "            else:\n",
    "                self.montant = (3.50*self.poids/1000)*2\n",
    "        \n",
    "        round(float(self.montant),3)\n",
    "    \n",
    "    def ToString(self):\n",
    "        self.calculeTimbre()\n",
    "        print (\"Lettre:\\n\"\n",
    "                +\"Adresse destination: {}\\n\".format(self.ad_dest)\n",
    "                +\"Adresse expedition: {}\\n\".format(self.ad_exp)\n",
    "                +\"Poids: {} grammes\\n\".format(self.poids)\n",
    "                +\"Mode: {}\\n\".format(self.mode_exp)\n",
    "                +\"Format: {}\\n\".format(self.formatL)\n",
    "                +\"Prix du timbre: {}\\n\".format(self.montant))"
   ]
  },
  {
   "cell_type": "code",
   "execution_count": 179,
   "metadata": {},
   "outputs": [
    {
     "name": "stdout",
     "output_type": "stream",
     "text": [
      "Lettre:\n",
      "Adresse destination: Lille\n",
      "Adresse expedition: Paris\n",
      "Poids: 80.0 grammes\n",
      "Mode: normal\n",
      "Format: A4\n",
      "Prix du timbre: 0.2\n",
      "\n"
     ]
    }
   ],
   "source": [
    "l1 = Lettre(\"Lille\",\"Paris\",80,\"normal\",\"A4\")\n",
    "l1.ToString()"
   ]
  },
  {
   "cell_type": "code",
   "execution_count": 184,
   "metadata": {},
   "outputs": [],
   "source": [
    "class Colis:\n",
    "    \n",
    "    ad_dest =\"\"\n",
    "    ad_exp= \"\"\n",
    "    poids = 0\n",
    "    mode_exp = \"\"\n",
    "    volume = 0\n",
    "    montant= 0\n",
    "    \n",
    "    def __init__(self,adD,adE,poids, mdEx,vol):\n",
    "        self.ad_dest = adD\n",
    "        self.ad_exp = adE\n",
    "        self.poids = float(poids)\n",
    "        self.mode_exp = mdEx\n",
    "        self.volume = vol\n",
    "        \n",
    "    def calculeTimbre(self):\n",
    "        if self.mode_exp == \"normal\":\n",
    "            self.montant = (0.25*self.volume*self.poids)\n",
    "        else:\n",
    "            self.montant = (0.25*self.volume*self.poids)*2\n",
    "    \n",
    "    def ToString(self):\n",
    "        self.calculeTimbre()\n",
    "        print (\"Lettre:\\n\"\n",
    "                +\"Adresse destination: {}\\n\".format(self.ad_dest)\n",
    "                +\"Adresse expedition: {}\\n\".format(self.ad_exp)\n",
    "                +\"Poids: {} grammes\\n\".format(self.poids)\n",
    "                +\"Mode: {}\\n\".format(self.mode_exp)\n",
    "                +\"Volume: {} litres\\n\".format(self.volume)\n",
    "                +\"Prix du timbre: {}\\n\".format(self.montant))"
   ]
  },
  {
   "cell_type": "code",
   "execution_count": 185,
   "metadata": {},
   "outputs": [
    {
     "name": "stdout",
     "output_type": "stream",
     "text": [
      "Lettre:\n",
      "Adresse destination: Marrakeche\n",
      "Adresse expedition: Barcelone\n",
      "Poids: 3500.0 grammes\n",
      "Mode: expresse\n",
      "Volume: 2.25 litres\n",
      "Prix du timbre: 3937.5\n",
      "\n"
     ]
    }
   ],
   "source": [
    "c1 = Colis(\"Marrakeche\",\"Barcelone\",3500,\"expresse\",2.25)\n",
    "c1.ToString()"
   ]
  },
  {
   "cell_type": "code",
   "execution_count": null,
   "metadata": {},
   "outputs": [],
   "source": []
  }
 ],
 "metadata": {
  "kernelspec": {
   "display_name": "Python 3",
   "language": "python",
   "name": "python3"
  },
  "language_info": {
   "codemirror_mode": {
    "name": "ipython",
    "version": 3
   },
   "file_extension": ".py",
   "mimetype": "text/x-python",
   "name": "python",
   "nbconvert_exporter": "python",
   "pygments_lexer": "ipython3",
   "version": "3.7.6"
  }
 },
 "nbformat": 4,
 "nbformat_minor": 4
}
