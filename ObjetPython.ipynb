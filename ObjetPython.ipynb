{
 "cells": [
  {
   "cell_type": "markdown",
   "metadata": {},
   "source": [
    "# Exercice Python"
   ]
  },
  {
   "cell_type": "markdown",
   "metadata": {},
   "source": [
    "## Le compte bancaire "
   ]
  },
  {
   "cell_type": "code",
   "execution_count": 54,
   "metadata": {},
   "outputs": [],
   "source": [
    "import numpy as np"
   ]
  },
  {
   "cell_type": "code",
   "execution_count": 2,
   "metadata": {},
   "outputs": [],
   "source": [
    "class CompteBancaire:\n",
    "    nom = \"\"\n",
    "    solde = 0\n",
    "    \n",
    "    \n",
    "    def __init__(self,n='Dupont',s=1000):\n",
    "        self.nom = n\n",
    "        self.solde = s\n",
    "        \n",
    "    def depot(self,x):\n",
    "        self.solde += x\n",
    "        #return (\"{}, votre slode actuel est de {} euros\".format(self.nom,solde))\n",
    "        \n",
    "    def retrait(self,n):\n",
    "        self.solde = self.solde-n\n",
    "        #return (\"{}, votre slode actuel est de {} euros\".format(self.nom,solde))\n",
    "        \n",
    "    def affiche(self):\n",
    "        return (\"Le solde du compte bancaire de {} est de {} euros.\".format(self.nom, self.solde))\n",
    "        "
   ]
  },
  {
   "cell_type": "code",
   "execution_count": 3,
   "metadata": {},
   "outputs": [
    {
     "data": {
      "text/plain": [
       "'Le solde du compte bancaire de Duchmol est de 950 euros.'"
      ]
     },
     "execution_count": 3,
     "metadata": {},
     "output_type": "execute_result"
    }
   ],
   "source": [
    "compte1 = CompteBancaire('Duchmol', 800)\n",
    "compte1.depot(350)\n",
    "compte1.retrait(200)\n",
    "compte1.affiche()"
   ]
  },
  {
   "cell_type": "code",
   "execution_count": 4,
   "metadata": {},
   "outputs": [
    {
     "data": {
      "text/plain": [
       "'Le solde du compte bancaire de Dupont est de 1025 euros.'"
      ]
     },
     "execution_count": 4,
     "metadata": {},
     "output_type": "execute_result"
    }
   ],
   "source": [
    "compte2 = CompteBancaire()\n",
    "compte2.depot(25)\n",
    "compte2.affiche()"
   ]
  },
  {
   "cell_type": "markdown",
   "metadata": {},
   "source": [
    "## La surcharge d'opérateur  "
   ]
  },
  {
   "cell_type": "code",
   "execution_count": 21,
   "metadata": {},
   "outputs": [],
   "source": [
    "class Point:\n",
    "    x=0\n",
    "    y=0\n",
    "    \n",
    "    def __init__(self,x,y,z=None):\n",
    "        self.x= x\n",
    "        self.y= y\n",
    "        self.z= z\n",
    "    \n",
    "    def ToString(self):\n",
    "        if self.z is None:\n",
    "             return (\"P(%f,%f)\"%(self.x,self.y))\n",
    "        else:\n",
    "             return (\"P(%f,%f,%f)\"%(self.x,self.y,self.z))\n",
    "       \n",
    "    "
   ]
  },
  {
   "cell_type": "code",
   "execution_count": 22,
   "metadata": {},
   "outputs": [],
   "source": [
    "p1 = Point(2,3)"
   ]
  },
  {
   "cell_type": "code",
   "execution_count": 23,
   "metadata": {},
   "outputs": [
    {
     "data": {
      "text/plain": [
       "'P(2.000000,3.000000)'"
      ]
     },
     "execution_count": 23,
     "metadata": {},
     "output_type": "execute_result"
    }
   ],
   "source": [
    "p1.ToString()"
   ]
  },
  {
   "cell_type": "code",
   "execution_count": 24,
   "metadata": {},
   "outputs": [],
   "source": [
    "p2 = Point(2,-5,3)"
   ]
  },
  {
   "cell_type": "code",
   "execution_count": 25,
   "metadata": {},
   "outputs": [
    {
     "data": {
      "text/plain": [
       "'P(2.000000,-5.000000,3.000000)'"
      ]
     },
     "execution_count": 25,
     "metadata": {},
     "output_type": "execute_result"
    }
   ],
   "source": [
    "p2.ToString()"
   ]
  },
  {
   "cell_type": "markdown",
   "metadata": {},
   "source": [
    "## L'héritage simple"
   ]
  },
  {
   "cell_type": "code",
   "execution_count": 73,
   "metadata": {},
   "outputs": [],
   "source": [
    "from datetime import datetime\n",
    "\n",
    "class DateNaissance:\n",
    "    dateN =0\n",
    "    \n",
    "    def __init__(self,j,m,a):\n",
    "        dt = \"%s/%s/%s\"%(j,m,a)\n",
    "        print(dt)\n",
    "        self.dateN = datetime.strptime(dt, '%d/%m/%Y')\n",
    "        self.dateN = self.dateN.strftime('%d/%m/%Y')\n",
    "    \n",
    "    def ToString(self):\n",
    "        return(\"{}\".format(self.dateN))\n",
    "    "
   ]
  },
  {
   "cell_type": "code",
   "execution_count": 74,
   "metadata": {},
   "outputs": [
    {
     "name": "stdout",
     "output_type": "stream",
     "text": [
      "1/7/1995\n"
     ]
    },
    {
     "data": {
      "text/plain": [
       "'01/07/1995'"
      ]
     },
     "execution_count": 74,
     "metadata": {},
     "output_type": "execute_result"
    }
   ],
   "source": [
    "c = DateNaissance(1,7,1995)\n",
    "c.ToString()"
   ]
  },
  {
   "cell_type": "code",
   "execution_count": null,
   "metadata": {},
   "outputs": [],
   "source": []
  }
 ],
 "metadata": {
  "kernelspec": {
   "display_name": "Python 3",
   "language": "python",
   "name": "python3"
  },
  "language_info": {
   "codemirror_mode": {
    "name": "ipython",
    "version": 3
   },
   "file_extension": ".py",
   "mimetype": "text/x-python",
   "name": "python",
   "nbconvert_exporter": "python",
   "pygments_lexer": "ipython3",
   "version": "3.7.6"
  }
 },
 "nbformat": 4,
 "nbformat_minor": 4
}
